{
 "cells": [
  {
   "cell_type": "code",
   "execution_count": null,
   "id": "f0668c08",
   "metadata": {},
   "outputs": [
    {
     "name": "stderr",
     "output_type": "stream",
     "text": [
      "/Users/luwaga/anaconda3/lib/python3.10/site-packages/sklearn/base.py:376: InconsistentVersionWarning: Trying to unpickle estimator MinMaxScaler from version 1.2.1 when using version 1.5.1. This might lead to breaking code or invalid results. Use at your own risk. For more info please refer to:\n",
      "https://scikit-learn.org/stable/model_persistence.html#security-maintainability-limitations\n",
      "  warnings.warn(\n"
     ]
    },
    {
     "ename": "NameError",
     "evalue": "name 'df' is not defined",
     "output_type": "error",
     "traceback": [
      "\u001b[0;31m---------------------------------------------------------------------------\u001b[0m",
      "\u001b[0;31mNameError\u001b[0m                                 Traceback (most recent call last)",
      "Cell \u001b[0;32mIn[1], line 10\u001b[0m\n\u001b[1;32m      7\u001b[0m scaler \u001b[38;5;241m=\u001b[39m joblib\u001b[38;5;241m.\u001b[39mload(\u001b[38;5;124m'\u001b[39m\u001b[38;5;124m../step1_lstm_xai/scaler.joblib\u001b[39m\u001b[38;5;124m'\u001b[39m)\n\u001b[1;32m      9\u001b[0m \u001b[38;5;66;03m# Get one alert from your data\u001b[39;00m\n\u001b[0;32m---> 10\u001b[0m alert_features \u001b[38;5;241m=\u001b[39m \u001b[43mdf\u001b[49m\u001b[38;5;241m.\u001b[39miloc[\u001b[38;5;241m0\u001b[39m][FEATURE_NAMES]\u001b[38;5;241m.\u001b[39mvalues\n\u001b[1;32m     12\u001b[0m \u001b[38;5;66;03m# Scale it\u001b[39;00m\n\u001b[1;32m     13\u001b[0m alert_scaled \u001b[38;5;241m=\u001b[39m scaler\u001b[38;5;241m.\u001b[39mtransform(alert_features\u001b[38;5;241m.\u001b[39mreshape(\u001b[38;5;241m1\u001b[39m, \u001b[38;5;241m-\u001b[39m\u001b[38;5;241m1\u001b[39m))\n",
      "\u001b[0;31mNameError\u001b[0m: name 'df' is not defined"
     ]
    }
   ],
   "source": [
    "# Test XAI with scaling\n",
    "import numpy as np\n",
    "import torch\n",
    "import joblib\n",
    "import pandas as pd\n",
    "\n",
    "# Load scaler\n",
    "scaler = joblib.load('../step1_lstm_xai/scaler.joblib')\n",
    "\n",
    "# Get one alert from your data\n",
    "alert_features = df.iloc[0][FEATURE_NAMES].values\n",
    "\n",
    "# Scale it\n",
    "alert_scaled = scaler.transform(alert_features.reshape(1, -1))\n",
    "\n",
    "# Create tensor\n",
    "alert_tensor = torch.tensor(alert_scaled, dtype=torch.float32).unsqueeze(0).to(device)\n",
    "\n",
    "# Get prediction\n",
    "model.eval()\n",
    "with torch.no_grad():\n",
    "    output = model(alert_tensor)\n",
    "    probs = torch.softmax(output, dim=1)[0]\n",
    "    print(f\"Prediction: {output.argmax(dim=1).item()}\")\n",
    "    print(f\"Confidence: {probs[output.argmax(dim=1)].item():.4f}\")\n",
    "\n",
    "# Compute attributions\n",
    "from captum.attr import DeepLift\n",
    "dl = DeepLift(model)\n",
    "baseline = torch.zeros_like(alert_tensor)\n",
    "attributions = dl.attribute(alert_tensor, baselines=baseline, target=output.argmax(dim=1).item())\n",
    "\n",
    "print(\"\\nTop 5 Feature Importances:\")\n",
    "attr_array = attributions.squeeze().detach().cpu().numpy()\n",
    "sorted_indices = np.argsort(-np.abs(attr_array))[:5]\n",
    "for idx in sorted_indices:\n",
    "    print(f\"  {FEATURE_NAMES[idx]}: {attr_array[idx]:.4f}\")"
   ]
  }
 ],
 "metadata": {
  "kernelspec": {
   "display_name": "base",
   "language": "python",
   "name": "python3"
  },
  "language_info": {
   "codemirror_mode": {
    "name": "ipython",
    "version": 3
   },
   "file_extension": ".py",
   "mimetype": "text/x-python",
   "name": "python",
   "nbconvert_exporter": "python",
   "pygments_lexer": "ipython3",
   "version": "3.10.9"
  }
 },
 "nbformat": 4,
 "nbformat_minor": 5
}
